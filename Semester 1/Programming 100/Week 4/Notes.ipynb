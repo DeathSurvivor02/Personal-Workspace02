{
 "cells": [
  {
   "cell_type": "markdown",
   "metadata": {},
   "source": [
    "<h1> Selection and Deselection of Statements {Control Statement} </h1>"
   ]
  },
  {
   "cell_type": "code",
   "execution_count": null,
   "metadata": {
    "vscode": {
     "languageId": "csharp"
    }
   },
   "outputs": [],
   "source": [
    "Console.WriteLine(\"Enter an integer number\");\n",
    "int num = Convert.ToInt32(Console.ReadLine());\n",
    "\n",
    "//! conditional statement (Selection and Deselection of statements)\n",
    "if (num == 5)\n",
    "{\n",
    "\t\n",
    "    Console.WriteLine(\"Value is equal to 5\");\n",
    "}\n"
   ]
  },
  {
   "cell_type": "code",
   "execution_count": null,
   "metadata": {
    "vscode": {
     "languageId": "csharp"
    }
   },
   "outputs": [],
   "source": []
  }
 ],
 "metadata": {
  "language_info": {
   "name": "python"
  }
 },
 "nbformat": 4,
 "nbformat_minor": 2
}
