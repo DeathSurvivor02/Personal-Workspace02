{
 "cells": [
  {
   "cell_type": "markdown",
   "metadata": {},
   "source": [
    "<h1> Different Ways to Print statements in C# </h1>\n"
   ]
  },
  {
   "cell_type": "code",
   "execution_count": null,
   "metadata": {
    "vscode": {
     "languageId": "csharp"
    }
   },
   "outputs": [],
   "source": [
    "Console.WriteLine(\"Display with String interpolation\");\n",
    "int age;\n",
    "Console.WriteLine(\"Enter your age \");\n",
    "age = Convert.ToInt32(Console.ReadLine());\n",
    "Console.WriteLine(\"Enter your salary\");\n",
    "double salary = (Convert.ToDouble(Console.ReadLine()));\n",
    "Console.WriteLine($\"Your age is is {age} and your salary is  {salary}\");\n",
    "\n"
   ]
  },
  {
   "cell_type": "markdown",
   "metadata": {
    "vscode": {
     "languageId": "html"
    }
   },
   "source": [
    "<h2> <u>Different Types of Number Formatting </u></h2>"
   ]
  },
  {
   "cell_type": "code",
   "execution_count": null,
   "metadata": {
    "vscode": {
     "languageId": "csharp"
    }
   },
   "outputs": [],
   "source": [
    "// for currency \n",
    "    Console.WriteLine($\"{2.5C}\") //will print $2.50\n",
    "\n",
    "// for decimal\n",
    "    Console.WriteLine($\"25D5\") //will print 00025"
   ]
  },
  {
   "cell_type": "markdown",
   "metadata": {},
   "source": [
    "<h3> Exercise 1: </h3>\n",
    "\n"
   ]
  },
  {
   "cell_type": "markdown",
   "metadata": {},
   "source": [
    "<center> Question 1:</center>"
   ]
  },
  {
   "cell_type": "code",
   "execution_count": null,
   "metadata": {
    "vscode": {
     "languageId": "csharp"
    }
   },
   "outputs": [],
   "source": [
    "//Variables Declared Variables\n",
    "int hen1, hen2, hen3, hen4;\n",
    "int totalEggs;\n",
    "int dozens, remaining;\n",
    "\n",
    "//Variables: Initalization\n",
    "Console.WriteLine(\"Please enter the amount of eggs hen1 layed\");\n",
    "hen1 = Convert.ToInt32(Console.ReadLine());\n",
    "Console.WriteLine(\"Please enter the amount of eggs hen2 layed\");\n",
    "hen2= Convert.ToInt32(Console.ReadLine());\n",
    "Console.WriteLine(\"Please enter the amount of eggs hen3 layed\");\n",
    "hen3 = Convert.ToInt32(Console.ReadLine());\n",
    "Console.WriteLine(\"Please enter the amount of eggs hen4 layed\");\n",
    "hen4 = Convert.ToInt32(Console.ReadLine());\n",
    "//& Calculation\n",
    "totalEggs = h1 + h2 + h3 + h4;\n",
    "dozens = totalEggs /12;\n",
    "remaining = totalEggs % 12;\n",
    "\n",
    "Console.WriteLine($\"The Total eggs are {totalEggs}, {dozens} dozens and {remaining} remaining eggs\");\n",
    "\n",
    "\n",
    "\n",
    "\n"
   ]
  },
  {
   "cell_type": "markdown",
   "metadata": {},
   "source": [
    "<center>Question 2</center>"
   ]
  },
  {
   "cell_type": "code",
   "execution_count": null,
   "metadata": {
    "vscode": {
     "languageId": "csharp"
    }
   },
   "outputs": [],
   "source": [
    "//Variable Declaration\n",
    "string name;\n",
    "string SocialNumber;\n",
    "double wage;\n",
    "double hours;\n",
    "double grossPay;\n",
    "double FedTax, provTax;\n",
    "double netPay;\n",
    "\n",
    "//Variable Initialization\n",
    "Console.Write(\"Enter your name: \");\n",
    "name = Console.ReadLine();\n",
    "Console.Write(\"Social Insurance Number: \");\n",
    "SocialNumber = Console.ReadLine();\n",
    "Console.Write(\"Hourly pay rate: \");\n",
    "wage = Convert.ToDouble(Console.ReadLine());\n",
    "Console.Write(\"Hours worked: \");\n",
    "hours = Convert.ToDouble(Console.ReadLine());\n",
    "Console.Write(\"\\n\\n\");\n",
    "\n",
    "\n",
    "//! Calculations\n",
    "grossPay = wage * hours;\n",
    "FedTax = 0.15 * grossPay;\n",
    "provTax = 0.1 * grossPay;\n",
    "netPay = grossPay - (FedTax + provTax);\n",
    "\n",
    "\n",
    "//? Final Output\n",
    "Console.WriteLine($\"Payroll for Summary for: {name}\");\n",
    "Console.WriteLine($\"SIN: {SocialNumber}\");\n",
    "Console.WriteLine($\"You worked {hours} at {wage:C} per hour\");\n",
    "Console.WriteLine($\"\\n\");\n",
    "\n",
    "Console.WriteLine($\"Gross Pay:\\t\\t\\t{grossPay:C}\",0.02);\n",
    "Console.WriteLine($\"Federal Tax:\\t\\t\\t{FedTax:C}\");\n",
    "Console.WriteLine($\"Provincial Tax:\\t\\t\\t{provTax:C}\");\n",
    "Console.WriteLine(\"----------------------------------------\");\n",
    "Console.WriteLine($\"Net Pay:\\t\\t\\t{netPay:C}\");\n"
   ]
  },
  {
   "cell_type": "markdown",
   "metadata": {},
   "source": [
    "<h2>Lab Exercise 1:</h2>"
   ]
  },
  {
   "cell_type": "markdown",
   "metadata": {},
   "source": [
    "<h3> Question 1: </h3>"
   ]
  },
  {
   "cell_type": "markdown",
   "metadata": {
    "vscode": {
     "languageId": "csharp"
    }
   },
   "source": [
    "Write a program that prompts the user for two integers. The program will display the result of\n",
    "summing and finding the difference. (If the user enters 8 and 3, the display should be 8 + 3 = 11\n",
    "and 8 – 3 = 5)"
   ]
  },
  {
   "cell_type": "code",
   "execution_count": null,
   "metadata": {
    "vscode": {
     "languageId": "csharp"
    }
   },
   "outputs": [],
   "source": [
    "//Variable Declaration:\n",
    "int num1, num2;\n",
    "\n",
    "// Variable Initialization:\n",
    "Console.Write(\"Enter integer: \");\n",
    "num1 = Convert.ToInt32(Console.ReadLine());\n",
    "Console.Write(\"Enter integer: \");\n",
    "num2 = Convert.ToInt32(Console.ReadLine());\n",
    "//~Output\n",
    "Console.WriteLine($\"{num1} + {num2} = {num1 + num2}\");\n",
    "Console.WriteLine($\"{num1} - {num2} = {num1 - num2}\");"
   ]
  },
  {
   "cell_type": "markdown",
   "metadata": {},
   "source": [
    "<h3> Question 2:</h3>"
   ]
  },
  {
   "cell_type": "markdown",
   "metadata": {},
   "source": [
    "Write a program to prompt the user to enter a single character. The program should display a\n",
    "message like “Your response was y”. For this question, you must use a variable of type char."
   ]
  },
  {
   "cell_type": "code",
   "execution_count": null,
   "metadata": {
    "vscode": {
     "languageId": "csharp"
    }
   },
   "outputs": [],
   "source": [
    "//Variable Declaration:\n",
    "char letter;\n",
    "\n",
    "Console.Write(\"Enter your choice y/n\");\n",
    "letter = Convert.ToChar(Console.ReadLine());\n",
    "Console.WriteLine($\"Your response was {letter}\");"
   ]
  },
  {
   "cell_type": "markdown",
   "metadata": {},
   "source": [
    "<h3> Question 3</h3>"
   ]
  },
  {
   "cell_type": "markdown",
   "metadata": {},
   "source": [
    "Write a program to ask the user about the validity of a simple statement. The program should\n",
    "accept the response then display the statement as well as the response. The response should be\n",
    "true or false. For this question, you must use a variable of type bool. It is useful to know that\n",
    "Convert.ToBoolean() can work with true, True, tRue, TRUE etc.\n"
   ]
  },
  {
   "cell_type": "code",
   "execution_count": null,
   "metadata": {
    "vscode": {
     "languageId": "csharp"
    }
   },
   "outputs": [],
   "source": [
    "// Variable Declaration:\n",
    "bool response;\n",
    "\n",
    "//~Input(Variable initialization) + Output\n",
    "Console.Write(\"My first name has more than 3 letters.\\n Enter your response true/false: \");\n",
    "response = Convert.ToBoolean(Console.ReadLine());\n",
    "Console.Write($\"My first name has more than 3 letters is {response}\");"
   ]
  },
  {
   "cell_type": "markdown",
   "metadata": {},
   "source": [
    "<h3> Question 4 </h3>\n"
   ]
  },
  {
   "cell_type": "markdown",
   "metadata": {},
   "source": [
    "Write a program to calculate the area of a circle. The user will enter the radius of the circle and\n",
    "the program will calculate and display the area according to the formula (area = 3.14 * radius *\n",
    "radius). You must accept fractions as the input. (Use the \"F\" format-specifier for floating point\n",
    "values)."
   ]
  },
  {
   "cell_type": "code",
   "execution_count": null,
   "metadata": {
    "vscode": {
     "languageId": "csharp"
    }
   },
   "outputs": [],
   "source": [
    "//! Variable Declaration\n",
    "double radius, area;\n",
    "\n",
    "//! Variable Initialization\n",
    "Console.Write(\"Enter the value of the radius: \");\n",
    "radius = Convert.ToDouble(Console.ReadLine());\n",
    "\n",
    "//~ Calculations\n",
    "area = 3.14 * radius * radius; //(radius**2 same thing technically)\n",
    "Console.Write($\"Area: {area:F2}\");"
   ]
  },
  {
   "cell_type": "markdown",
   "metadata": {},
   "source": [
    "\n",
    "<h3> Question 5 </h3>"
   ]
  },
  {
   "cell_type": "markdown",
   "metadata": {},
   "source": [
    "Write a program that prompts the user for a number (that may be a fraction). The program reads\n",
    "in the input and print the following: the input as a double, the input as an int and finally the\n",
    "input as a char. e.g. if the input is 65.790, then the output will be 65.790, 65, and A."
   ]
  },
  {
   "cell_type": "code",
   "execution_count": null,
   "metadata": {
    "vscode": {
     "languageId": "csharp"
    }
   },
   "outputs": [],
   "source": [
    "double num;\n",
    "\n",
    "Console.Write(\"Enter the number: \");\n",
    "num = Convert.ToDouble(Console.ReadLine());\n",
    "\n",
    "Console.Write($\"\\nNumber is: {num}\");\n",
    "Console.Write($\"\\nInteger is: {num:F0}\");\n",
    "//Todo Convert to int and display\n",
    "Console.Write($\"\\nCharacter value: {(char)num}\");\n"
   ]
  },
  {
   "cell_type": "markdown",
   "metadata": {},
   "source": [
    "<h3> Question 6 </h3>"
   ]
  },
  {
   "cell_type": "markdown",
   "metadata": {},
   "source": [
    "Adult ticket cost $3.75 and child ticket cost $2.25. Write a program to prompt the user for the\n",
    "amount of adult and child tickets. The program will display a user-friendly message of the\n",
    "number of tickets brought as well as the total cost. (Use the \"C\" format-string for currency)."
   ]
  },
  {
   "cell_type": "code",
   "execution_count": null,
   "metadata": {
    "vscode": {
     "languageId": "csharp"
    }
   },
   "outputs": [],
   "source": [
    "//Variable Declaration:\n",
    "const double adultTicket = 3.75;\n",
    "const double childTicket = 2.25;\n",
    "double fullPrice;\n",
    "double adultTotal;\n",
    "double childTotal;\n",
    "double ticketTotal;\n",
    "\n",
    "//Variable Initialization + Calculation\n",
    "Console.Write(\"Enter the number of adult tickets: \");\n",
    "adultTotal = Convert.ToDouble(Console.ReadLine());\n",
    "Console.Write(\"Enter the number of children tickets: \");\n",
    "childTotal = Convert.ToDouble(Console.ReadLine());\n",
    "ticketTotal = adultTotal + childTotal;\n",
    "Console.Write($\"Total number of tickets: {ticketTotal}\\n\");\n",
    "fullPrice = (adultTicket * adultTotal) + (childTicket * childTotal);\n",
    "Console.Write($\"Total amount of tickets: {fullPrice}\");"
   ]
  }
 ],
 "metadata": {
  "language_info": {
   "name": "python"
  }
 },
 "nbformat": 4,
 "nbformat_minor": 2
}
