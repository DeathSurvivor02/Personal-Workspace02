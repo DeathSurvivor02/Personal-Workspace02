{
 "cells": [
  {
   "cell_type": "markdown",
   "metadata": {},
   "source": [
    "<h1><red> Strings </\n",
    "h1>"
   ]
  },
  {
   "cell_type": "markdown",
   "metadata": {},
   "source": [
    "<h2> <p> Slicing </p> </h2>\n",
    "\n",
    "<p> It cuts up a string or an array and only shows a cut of the enter string\n",
    "\n",
    "<h4> Example </h4>"
   ]
  },
  {
   "cell_type": "code",
   "execution_count": null,
   "metadata": {},
   "outputs": [],
   "source": [
    "name = \"Ean Bynoe\"\n",
    "print (name[0:2])"
   ]
  },
  {
   "cell_type": "markdown",
   "metadata": {},
   "source": [
    "<h2> Splitting </h2>\n",
    "\n",
    "<p> Allows the user to remove a specific character and concatanates the words\n",
    "\n",
    "\n",
    "\n",
    "<h3> Example:</h3>\n"
   ]
  },
  {
   "cell_type": "code",
   "execution_count": null,
   "metadata": {},
   "outputs": [],
   "source": [
    "example = \"the quick brown fox jumps over the lazy dog\"\n",
    "a.split()\n",
    "#output ['the' 'quick' 'brown' 'fox` `jumps' 'over' 'the' 'lazy' 'dog']\n",
    "\n"
   ]
  },
  {
   "cell_type": "markdown",
   "metadata": {},
   "source": [
    "<h3> Upper Case Method </h3>\n",
    "\n"
   ]
  },
  {
   "cell_type": "code",
   "execution_count": null,
   "metadata": {},
   "outputs": [],
   "source": [
    "example.upper() #using the example text from above\n",
    "#*THE QUICK BROWN FOX JUMPS OVER THE LAZY DOG #!output \n",
    "\n",
    "#NB this can be down with the lowercase function also (lower)"
   ]
  },
  {
   "cell_type": "code",
   "execution_count": null,
   "metadata": {},
   "outputs": [],
   "source": [
    "example.capitalize()\n"
   ]
  },
  {
   "cell_type": "markdown",
   "metadata": {},
   "source": []
  }
 ],
 "metadata": {
  "language_info": {
   "name": "python"
  }
 },
 "nbformat": 4,
 "nbformat_minor": 2
}
