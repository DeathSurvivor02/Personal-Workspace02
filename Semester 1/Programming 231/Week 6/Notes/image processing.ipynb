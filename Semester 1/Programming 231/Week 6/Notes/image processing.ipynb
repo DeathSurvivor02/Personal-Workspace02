{
 "cells": [
  {
   "cell_type": "markdown",
   "metadata": {},
   "source": [
    "<h1> The Image Element </h1>\n"
   ]
  },
  {
   "cell_type": "code",
   "execution_count": null,
   "metadata": {
    "vscode": {
     "languageId": "html"
    }
   },
   "outputs": [],
   "source": [
    "<img src=\"location of image\" alt=\"alternative image name\" width=\"100%\" height=\"100%\">"
   ]
  },
  {
   "cell_type": "markdown",
   "metadata": {},
   "source": [
    "Image Links:\n"
   ]
  },
  {
   "cell_type": "code",
   "execution_count": null,
   "metadata": {
    "vscode": {
     "languageId": "html"
    }
   },
   "outputs": [],
   "source": [
    "<a href=\"http://efwfjkwnefkjlw.com/images\"><img src=\"small.jpg\" alt=\"ocean view\"> </a>"
   ]
  },
  {
   "cell_type": "markdown",
   "metadata": {},
   "source": [
    "<h2> Background Images </h2>"
   ]
  },
  {
   "cell_type": "markdown",
   "metadata": {},
   "source": [
    "<h3> In css format </h3>"
   ]
  },
  {
   "cell_type": "code",
   "execution_count": null,
   "metadata": {
    "vscode": {
     "languageId": "css"
    }
   },
   "outputs": [],
   "source": [
    "body \n",
    "{\n",
    "    background-image: url(\"background.jpg\");\n",
    "    background-repeat: no-repeat;\n",
    "    background-size: cover;\n",
    "    background-position: center;\n",
    "}\n",
    "\n",
    "body\n",
    "{\n",
    "    background: url(fewnjfkwnefkjlw.com/background), no-repeat, cover, center;\n",
    "}"
   ]
  },
  {
   "cell_type": "markdown",
   "metadata": {
    "vscode": {
     "languageId": "css"
    }
   },
   "source": [
    "<h1> Configuration of Font faces </h1>"
   ]
  },
  {
   "cell_type": "code",
   "execution_count": null,
   "metadata": {
    "vscode": {
     "languageId": "css"
    }
   },
   "outputs": [],
   "source": [
    "p\n",
    "{\n",
    "    font-family: 'Courier New', Courier, monospace;\n",
    "    font-size: xx-small, small;\n",
    "    text-align: center;\n",
    "    text-indent: 0%;\n",
    "}"
   ]
  }
 ],
 "metadata": {
  "language_info": {
   "name": "python"
  }
 },
 "nbformat": 4,
 "nbformat_minor": 2
}
