{
 "cells": [
  {
   "cell_type": "markdown",
   "metadata": {},
   "source": [
    "<h1> Under the Hood of a Web Page<h1>\n",
    "\n",
    "<h3>\n",
    "\t<li><bold>DOCTYPE<bold> - contains the web page document <br>\n",
    "\t<li><bold>Head element<bold> - contains the head section <br>\n",
    "\tThe head section contains informatoin that describes the web page document <br>\n",
    "  \t<li><bold>Title element<bold> - Text displays in title bar of window <br>\n",
    "  \t<li><bold>Meta element<bold> - describes the character <br>\n",
    "\t<li><bold>Body element<bold> - contains the body section of p \n",
    "<h3>"
   ]
  },
  {
   "cell_type": "code",
   "execution_count": null,
   "metadata": {
    "vscode": {
     "languageId": "html"
    }
   },
   "outputs": [],
   "source": [
    "<!DOCTYPE html>\n",
    "\t<html lang = \"en\">\n",
    "\t\t<head>\n",
    "\t\t\t<title>My first HTML5 Web page</title>\n",
    "\t\t\t<meta charset = \"uft-8\">\n",
    "\t\t</head>\n",
    "\t\t<body>\n",
    "\t\t\tHello World\n",
    "\t\t</body>\n",
    "\t</html>\n"
   ]
  },
  {
   "cell_type": "markdown",
   "metadata": {
    "vscode": {
     "languageId": "html"
    }
   },
   "source": [
    "<h1>The Heading Element</h1>"
   ]
  },
  {
   "cell_type": "code",
   "execution_count": null,
   "metadata": {
    "vscode": {
     "languageId": "html"
    }
   },
   "outputs": [],
   "source": [
    "<h1>Heading Level 1</h1>\n",
    "<h2>Heading Level 2</h2>\n",
    "<h3>Heading Level 3</h3>\n",
    "<h4>Heading Level 4</h4>\n",
    "<h5>Heading Level 5</h5>\n",
    "<h6>Heading Level 6</h6>\n",
    "<h7>Heading Level 7</h7>\n"
   ]
  },
  {
   "cell_type": "markdown",
   "metadata": {},
   "source": [
    "<h1> The Paragraph Element < p > tag </h1>\n",
    "\n",
    "* Paragraph element \n",
    "* < p > ... paragraph element goes here ... < / p >\n",
    "  - Groups sentences and sections of text together.\n",
    "  - Configures "
   ]
  },
  {
   "cell_type": "code",
   "execution_count": null,
   "metadata": {
    "vscode": {
     "languageId": "html"
    }
   },
   "outputs": [],
   "source": [
    "<!DOCTYPE html>\n",
    "<html>\n",
    "\t<body>\n",
    "\t\t<h1>The p element </h1>\n",
    "\t\t<p>This is a paragraph</p>\n",
    "\t\t<p>This is a paragraph</p>\n",
    "\t\t<p>This is a paragraph</p>\n",
    "\t</body>\n",
    "</html>"
   ]
  },
  {
   "cell_type": "markdown",
   "metadata": {},
   "source": [
    "<h1>The Line Break Element < br > tag </h1>\n",
    "\n",
    "* Line Break element\n",
    "*  \n"
   ]
  },
  {
   "cell_type": "code",
   "execution_count": null,
   "metadata": {
    "vscode": {
     "languageId": "html"
    }
   },
   "outputs": [],
   "source": [
    "<!DOCTYPE html>\n",
    "<html>\n",
    "\t<body>\n",
    "\t\t<h1>The br element</h1>\n",
    "\n",
    "\t\t<p>To force <br> line breaks <br> in a text, <br> use the br <br> element.</p>\n",
    "\t</body>\n",
    "</html>"
   ]
  },
  {
   "cell_type": "markdown",
   "metadata": {},
   "source": [
    "<h1> The Horizontal Line </h1>"
   ]
  },
  {
   "cell_type": "code",
   "execution_count": null,
   "metadata": {
    "vscode": {
     "languageId": "html"
    }
   },
   "outputs": [],
   "source": [
    "<!DOCTYPE html>\n",
    "<html>\n",
    "\t<body>\n",
    "\t\t<h1>The Main Languages of the Web</h1>\n",
    "\n",
    "\t\t<p>HTML is the standard markup language for creating Web pages.</p>\n",
    "\t\t<hr>\n",
    "\t\t<p>blah blah</p>\n",
    "\t\t<hr>\n",
    "\t</body>\n",
    "</html>"
   ]
  },
  {
   "cell_type": "markdown",
   "metadata": {
    "vscode": {
     "languageId": "html"
    }
   },
   "source": [
    "<h1>Blockquote</h1>"
   ]
  },
  {
   "cell_type": "code",
   "execution_count": null,
   "metadata": {
    "vscode": {
     "languageId": "html"
    }
   },
   "outputs": [],
   "source": [
    "<!DOCTYPE html>\n",
    "<html>\n",
    "\t<body>\n",
    "\t\t\n",
    "\t<h1>The blockquote element</h1>\n",
    "\n",
    "\t<p>Here is a quote from WWF's website:</p>\n",
    "\n",
    "\t<blockquote>\n",
    "\t\tFor 50 years, WWF has been protecting the future of nature. The world's leading conservation organization, WWF works in 100 countries and is supported by 1.2 million \n",
    "\t\tmembers in the United States and close to 5 million globally\n",
    "\t</blockquote>\n",
    "\t</body>\n",
    "</html>"
   ]
  },
  {
   "cell_type": "markdown",
   "metadata": {},
   "source": [
    "<h1> Display inline with the text</h1>\n",
    " * "
   ]
  }
 ],
 "metadata": {
  "language_info": {
   "name": "python"
  }
 },
 "nbformat": 4,
 "nbformat_minor": 2
}
