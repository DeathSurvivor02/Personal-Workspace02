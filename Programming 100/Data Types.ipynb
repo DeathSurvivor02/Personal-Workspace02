{
 "cells": [
  {
   "cell_type": "markdown",
   "metadata": {},
   "source": [
    "Data Types:\n",
    " Coding Language: C#\n",
    " Types of data types: int (integer), double(float), string (string)"
   ]
  },
  {
   "cell_type": "code",
   "execution_count": null,
   "metadata": {
    "vscode": {
     "languageId": "csharp"
    }
   },
   "outputs": [],
   "source": [
    "int age;\n",
    "double height; //float\n",
    "float shoesize;\n",
    "bool internatonal; //true or false\n",
    "string fname;\n",
    "char letter; \n",
    "\n",
    "//? printing in C#\n",
    "Console.Writeln(\"Hello\");"
   ]
  },
  {
   "cell_type": "code",
   "execution_count": null,
   "metadata": {
    "vscode": {
     "languageId": "csharp"
    }
   },
   "outputs": [],
   "source": [
    "//! To Print Lines\n",
    "int dataname;\n",
    "Console.WriteLine(\" Insert Text here\" + dataname);\n",
    "Console.WriteLine($\"Insert text here:{dataname}, this is easier for entering more datatypes {dataname}\") //NB  this is like cpp\n",
    "\n",
    "//& To Read Lines\n",
    "\n",
    "dataname  = Console.ReadLine(); //this usually reads it as a string\n",
    "dataname  = Convert.ToInt32(Console.ReadLine()); //this is to convert to an integer 32bit\n",
    "dataname  = Console.ToDouble(); //this is for double\n",
    "dataname  = Console.ToChar(); //to convert to char\n",
    "dataname  = Convert.ToBool(Console.ReadLine()); //* Reads as a boolean value  "
   ]
  },
  {
   "cell_type": "code",
   "execution_count": null,
   "metadata": {
    "vscode": {
     "languageId": "csharp"
    }
   },
   "outputs": [],
   "source": [
    "//^ Example:\n",
    "\n",
    "\n",
    "Consol.WriteLine(\"This code receives your afe and displays it\");\n",
    "Console.WriteLine(\"Enter your age\")\n",
    "int age = Convert.ToInt32(Console.ReadLine());\n"
   ]
  },
  {
   "cell_type": "code",
   "execution_count": null,
   "metadata": {
    "vscode": {
     "languageId": "csharp"
    }
   },
   "outputs": [],
   "source": [
    "//!Int to other types conversions //"
   ]
  }
 ],
 "metadata": {
  "language_info": {
   "name": "python"
  }
 },
 "nbformat": 4,
 "nbformat_minor": 2
}
