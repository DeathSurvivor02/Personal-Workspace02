{
 "cells": [
  {
   "attachments": {},
   "cell_type": "markdown",
   "metadata": {},
   "source": [
    "<!-- [center] => [Java-Fundamentals] -->\n",
    "\n",
    "This handout provides a brief overview of the Java syntax and conventions used in this course. It should be noted that not all of the keywords, available within Java,are described in this document.\n",
    "\n",
    "\n",
    "\n",
    "Below compares the attributes associated with the programming languages C++ and Java\n",
    "\n",
    "<h2> Object-Oriented-Principles </h2>\n",
    "\n",
    "<h4> C++ </h4>\n",
    "\tAllows the programmer to mix procedural and obkect-oriented programming approaches\n",
    "\tthis maintains backware compatibility with th eC programming language and its libraries\n",
    "\n",
    "<h4> Java\n",
    "\tOnly an object-oriented progrmamming approach is allowed\n",
    "\tAs a result, global variables are not allowed\n",
    "\n",
    "\n",
    "<h2>Speed</h2>\n",
    "<h4> C++  </h4>\n",
    "\tIt is a compiled language and the resultant is executable is high optimised for speed\n",
    "<h4> Java </h4>\n",
    "\tit is an interpreted laguage and so there is the overhead of the interpretation stage before the software is executed\n",
    "\tThis is generally nor noticeable bfor routine applications but can become an issue for specific types of software such as operating systems and real-time systems\n",
    "\n",
    "\n",
    "<h2>Portability</h2>\n",
    "<h4> C++ </h4>\n",
    "\tThe C++ programming language is designed to be used on any platform (operating system) but a compiler must be created for each platform\n",
    "\tAs a result, for each new platform the program must be recompiled\n",
    "<h4> Java </h4>\n",
    "\tThe Java programming language is interepreted and so is only compiled once to a specified format using byte codes\n",
    "\tOn each platform, a Jav interpreter must be created but each interpreter can run the same compiler Java program\n",
    "\tTherefore, a Java program is only compiled once regardless of the number of platforms (operating systems) being used\n",
    "\n",
    "<h2>Readability</h2>\n",
    "<h4> C++ </h4>\n",
    "\tLike C, C++ used hard to read operators to represent specific object-orented attributes\n",
    "\tThese operators are used for a variety of purposeds (overloading), depending on the context.\n",
    "\t[example:]\n",
    "\t\tthe ':' operator is used to signify one class inheriting from another. it is also used for other purposed in C++.\n",
    "\n",
    "[Java\n",
    "\tJava uses distinct keywords that indicate their purpose. It avoids the overloading operators\n"
   ]
  },
  {
   "attachments": {},
   "cell_type": "markdown",
   "metadata": {},
   "source": [
    "*Keywords*\n",
    "In the code below, a comparison between the C++ and Java keywords is made (the list is not complete). Other java keywords will be introduced as the course progresses"
   ]
  },
  {
   "cell_type": "code",
   "execution_count": null,
   "metadata": {
    "vscode": {
     "languageId": "cpp"
    }
   },
   "outputs": [],
   "source": [
    "class Test\n",
    "{\n",
    "\t\n",
    "}"
   ]
  },
  {
   "cell_type": "code",
   "execution_count": null,
   "metadata": {
    "vscode": {
     "languageId": "java"
    }
   },
   "outputs": [],
   "source": [
    "class Test\n",
    "{\n",
    "\t\n",
    "}"
   ]
  },
  {
   "attachments": {},
   "cell_type": "markdown",
   "metadata": {},
   "source": [
    "Start of the class definition for ***Test***"
   ]
  },
  {
   "cell_type": "code",
   "execution_count": null,
   "metadata": {
    "vscode": {
     "languageId": "cpp"
    }
   },
   "outputs": [],
   "source": [
    "private:\n",
    "\tvoid aMethod(void);\n",
    "\tint a;"
   ]
  },
  {
   "cell_type": "code",
   "execution_count": null,
   "metadata": {
    "vscode": {
     "languageId": "java"
    }
   },
   "outputs": [],
   "source": [
    "private void aMethod();\n",
    "private int a;"
   ]
  },
  {
   "attachments": {},
   "cell_type": "markdown",
   "metadata": {},
   "source": [
    "**Private method** aMethod and a **private field**"
   ]
  },
  {
   "cell_type": "code",
   "execution_count": null,
   "metadata": {
    "vscode": {
     "languageId": "cpp"
    }
   },
   "outputs": [],
   "source": [
    "protected:\n",
    "\tvoid aMethod(void);\n",
    "\tint a;"
   ]
  },
  {
   "cell_type": "code",
   "execution_count": null,
   "metadata": {
    "vscode": {
     "languageId": "java"
    }
   },
   "outputs": [],
   "source": [
    "protected void aMethod();\n",
    "protected int a;"
   ]
  },
  {
   "attachments": {},
   "cell_type": "markdown",
   "metadata": {},
   "source": [
    "[bold]\n",
    "\tProtected method aMethod and protected field a.\n",
    "\t"
   ]
  },
  {
   "cell_type": "code",
   "execution_count": null,
   "metadata": {
    "vscode": {
     "languageId": "java"
    }
   },
   "outputs": [],
   "source": [
    "public:\n",
    "\tvoid aMethod(void)\n",
    "\tint a;"
   ]
  },
  {
   "cell_type": "code",
   "execution_count": null,
   "metadata": {
    "vscode": {
     "languageId": "java"
    }
   },
   "outputs": [],
   "source": [
    "public void aMethod();\n",
    "public int a;"
   ]
  },
  {
   "attachments": {},
   "cell_type": "markdown",
   "metadata": {},
   "source": [
    "[bold]\n",
    "\tPublic method [bold] aMethod and public field a."
   ]
  },
  {
   "cell_type": "code",
   "execution_count": null,
   "metadata": {
    "vscode": {
     "languageId": "cpp"
    }
   },
   "outputs": [],
   "source": [
    "virtual aMethod(void) = 0;"
   ]
  },
  {
   "cell_type": "code",
   "execution_count": null,
   "metadata": {
    "vscode": {
     "languageId": "java"
    }
   },
   "outputs": [],
   "source": [
    "abstract void aMethod();"
   ]
  },
  {
   "attachments": {},
   "cell_type": "markdown",
   "metadata": {},
   "source": [
    "[bold]\n",
    "\tAbstract method aMethod"
   ]
  },
  {
   "cell_type": "code",
   "execution_count": null,
   "metadata": {
    "vscode": {
     "languageId": "cpp"
    }
   },
   "outputs": [],
   "source": [
    "#include <stdio.h>\n"
   ]
  },
  {
   "cell_type": "code",
   "execution_count": null,
   "metadata": {
    "vscode": {
     "languageId": "java"
    }
   },
   "outputs": [],
   "source": [
    "import java.io.*;"
   ]
  },
  {
   "attachments": {},
   "cell_type": "markdown",
   "metadata": {},
   "source": [
    "Including class libraries."
   ]
  },
  {
   "cell_type": "code",
   "execution_count": null,
   "metadata": {
    "vscode": {
     "languageId": "cpp"
    }
   },
   "outputs": [],
   "source": [
    "class A : public B"
   ]
  },
  {
   "cell_type": "code",
   "execution_count": null,
   "metadata": {
    "vscode": {
     "languageId": "java"
    }
   },
   "outputs": [],
   "source": [
    "class A extends B"
   ]
  },
  {
   "attachments": {},
   "cell_type": "markdown",
   "metadata": {},
   "source": [
    "[bold]\n",
    "\tClass A inherts the attributes of class B. Single inheritance for java and multiple inheritance for C++\n",
    "\t"
   ]
  },
  {
   "cell_type": "code",
   "execution_count": null,
   "metadata": {
    "vscode": {
     "languageId": "cpp"
    }
   },
   "outputs": [],
   "source": [
    "class A: public B, public C"
   ]
  },
  {
   "cell_type": "code",
   "execution_count": null,
   "metadata": {
    "vscode": {
     "languageId": "cpp"
    }
   },
   "outputs": [],
   "source": [
    "class A implements B, C"
   ]
  },
  {
   "attachments": {},
   "cell_type": "markdown",
   "metadata": {},
   "source": [
    "[bold]\n",
    "Class A implements the interfaces B and C. In C++ case, the classes B and C are abstract classes"
   ]
  },
  {
   "cell_type": "code",
   "execution_count": null,
   "metadata": {
    "vscode": {
     "languageId": "cpp"
    }
   },
   "outputs": [],
   "source": [
    "namespace A {}\n",
    "\n"
   ]
  },
  {
   "cell_type": "code",
   "execution_count": null,
   "metadata": {
    "vscode": {
     "languageId": "java"
    }
   },
   "outputs": [],
   "source": [
    "interface A{ }\n"
   ]
  },
  {
   "attachments": {},
   "cell_type": "markdown",
   "metadata": {},
   "source": [
    "Groups related methods (creates interfaces)."
   ]
  },
  {
   "cell_type": "code",
   "execution_count": null,
   "metadata": {
    "vscode": {
     "languageId": "cpp"
    }
   },
   "outputs": [],
   "source": [
    "namespace A {}"
   ]
  },
  {
   "cell_type": "code",
   "execution_count": null,
   "metadata": {
    "vscode": {
     "languageId": "java"
    }
   },
   "outputs": [],
   "source": [
    "package A;"
   ]
  },
  {
   "attachments": {},
   "cell_type": "markdown",
   "metadata": {},
   "source": [
    "Groups related classes together under a single name\n"
   ]
  },
  {
   "attachments": {},
   "cell_type": "markdown",
   "metadata": {},
   "source": [
    "[title]\n",
    "\tCase Sensitivity:\n",
    "\t\tLike its C++ counterpart, Java is case sensitive. For example, the words astring and aString are two separate indentifiers. For those alredy experienced in C++, this should not pose any problems, however, some tips that can ease the situation are provided below."
   ]
  },
  {
   "attachments": {},
   "cell_type": "markdown",
   "metadata": {},
   "source": [
    " <h1> <font color = 'red' > Composition</font> </h1>\n",
    "\n",
    "\n",
    "\n",
    "As discussed in the Inheritance section, a class can access the functionality of another via inheritance. However, it should only be used in cases of specialization. Unfortunately, this does not consider those cases where a class needs access to the functionality of one or more instances of another class. Now messages could be used, but the receving object would only be accessible within the method in which it was declared. The solution is *Composition*  ( also called containment), which is the ability of a class to consist of one or more class types. Consider the following case of *Headquaters*, which is used to equip the different types of players. Inheritance cannot be used since *MyPlayer* is a specialization of *MyPlayer* and the class *Headquaters* may need to equip different types of players at the same time. Also, more than one method in *Headquaters* may need access to the methods in *MyPlayer* to perform specific tests. Hence the solution is composed, as shown below."
   ]
  },
  {
   "cell_type": "code",
   "execution_count": null,
   "metadata": {
    "vscode": {
     "languageId": "java"
    }
   },
   "outputs": [],
   "source": [
    "public class Headquarters {\n",
    "\n",
    "  private MyPlayer m = new MyPlayer();\n",
    "\n",
    "  public void test() {\n",
    "    m.set(30, 250);\n",
    "  }\n",
    "}\n"
   ]
  },
  {
   "attachments": {},
   "cell_type": "markdown",
   "metadata": {},
   "source": [
    "The class *Headquarters* is **composed** of one instance of the *MyPlayer* class, m. Also, since *m* has been declared *private*, only fields and methods of *Headquarters* can access the public methods in *m*. It should be noted that  the firlds of a class could also be a combination of more than one class type. Consider the following example:\n"
   ]
  },
  {
   "cell_type": "code",
   "execution_count": null,
   "metadata": {
    "vscode": {
     "languageId": "java"
    }
   },
   "outputs": [],
   "source": [
    "class Triangle\n",
    "{\n",
    "\tprivate Point a,b;\n",
    "\tprivate Point3D c;\n",
    "\n",
    "\t...\n",
    "}"
   ]
  },
  {
   "attachments": {
    "image-2.png": {
     "image/png": "[encoded data removed]"
    },
    "image.png": {
     "image/png": "[encoded data removed]"
    }
   },
   "cell_type": "markdown",
   "metadata": {},
   "source": [
    "In this example, *a* and *b* are of type <font style: monospace> Point </font> while c is of type <font style: monospace> Point3D </font> Figure 1 shows a diagrammatic representation of composition while figure 2 shows the UML representation. <br>\n",
    "![figure1.png](attachment:image.png) ![figure2.png](attachment:image-2.png)\n",
    "<br>\n",
    "Remeber, it is good object-oriented design to make fields or data private, even in the case of composition.\n",
    "<br><br>"
   ]
  },
  {
   "attachments": {},
   "cell_type": "markdown",
   "metadata": {},
   "source": [
    "<h2> Composition verses Inheritance</h2>"
   ]
  },
  {
   "attachments": {},
   "cell_type": "markdown",
   "metadata": {},
   "source": [
    "*Composition and inheritance both have their advantages and disadvantages as discussed below*\n",
    "\n",
    "*\tInheritance is straightforward to use since it is directly supported by the syntax of the programming language\n",
    "*   Inheritance and overriding make the modication fo the reused implementation straightforward\n",
    "*   Inheritance is define statically at compile-time and so the inherited implementations cannot be changed at runtime\n",
    "*   Inheritance exposees subclass to the internals of the parent. This is often results in part of or all of the subclass's implementation being defined by the parent\n",
    "*   Composition does not break encapsulation or data hiding since the classes are accessed exclusively through their interfaces\n",
    "*   Composition enables the developer to design classes that are focused on a single task resulting in small, manageable classes hierarchies \n",
    "\n",
    "The last two points are important since they emphasize the importance of encapsulation and long-term maintenance\n",
    "Generally, always use compositoin (*as opposed to inheritance*). Inheritance should only be used if there is a clear heirarchy of classes.\n"
   ]
  },
  {
   "attachments": {},
   "cell_type": "markdown",
   "metadata": {},
   "source": [
    "<h1> Constructors </h1>\n",
    "\n",
    "In the Composition handout, feilds were initilized via the <font color = 'purple'>new </font> operator on the same line that they were declared, as shown below.\n"
   ]
  },
  {
   "cell_type": "code",
   "execution_count": null,
   "metadata": {
    "vscode": {
     "languageId": "java"
    }
   },
   "outputs": [],
   "source": [
    "public class Headquarters\n",
    "{\n",
    "\tprivate MyPlayer m = new MyPlayer();\n",
    "\tpublic void test()\n",
    "\t{\n",
    "\t\tm.set(30,250);\n",
    "\t}\n",
    "}"
   ]
  },
  {
   "attachments": {},
   "cell_type": "markdown",
   "metadata": {},
   "source": [
    "<p> Unfortunately, there is no guarantee as to when this initialization will take place, especially with relation to inheritance. \n",
    "To overcome this uncertainty, constructors should be used. Constructors allow the automation initialization of objects during their creation by the <font color = 'purple'> new </font> operator. This ensures that an object will be in a  <b>consistent</b> and <b>expected</b> state when formed. To define a constructor in Java, simply define a method with the same name as the class but no return type.\n",
    "Consider the following example: </p>\n",
    " "
   ]
  },
  {
   "cell_type": "code",
   "execution_count": null,
   "metadata": {
    "vscode": {
     "languageId": "java"
    }
   },
   "outputs": [],
   "source": [
    "public class Headquarters\n",
    "{\n",
    "\tprivate MyPlayer m;\n",
    "\t\n",
    "\t\n",
    "\tpublic Headquarters()\n",
    "\t{\n",
    "\t\tm = new MyPlayer();\n",
    "\t} \n",
    "\tpublic void test()\n",
    "\t{\n",
    "\t\tm.set(30,250);\n",
    "\t}\n",
    "}"
   ]
  },
  {
   "attachments": {},
   "cell_type": "markdown",
   "metadata": {},
   "source": [
    "The constructor is <font color = 'green'> Headquarters</font>() since it has the same name as the class and no return type"
   ]
  },
  {
   "attachments": {},
   "cell_type": "markdown",
   "metadata": {},
   "source": [
    "Constructors can have parameters and can be overloaded\n",
    "The constructor is called each time the <font color = 'purple'> new </font> operator is used"
   ]
  },
  {
   "cell_type": "code",
   "execution_count": null,
   "metadata": {
    "vscode": {
     "languageId": "java"
    }
   },
   "outputs": [],
   "source": [
    "public class VRWorldMain\n",
    "{\n",
    "\tpublic static void main (String args)\n",
    "\t{\n",
    "\t\tHeadquarters r1 = new Headquarters() //constructor is called\n",
    "\t}\n",
    "}"
   ]
  },
  {
   "attachments": {},
   "cell_type": "markdown",
   "metadata": {},
   "source": [
    "Before the  <font color = 'purple'> new </font> operator returns a reference to the newly created object, the instructions in the constructor are executed"
   ]
  },
  {
   "attachments": {},
   "cell_type": "markdown",
   "metadata": {},
   "source": [
    "<h2> <font color = 'blue'> Default Constructors </font></h2>\n"
   ]
  },
  {
   "attachments": {},
   "cell_type": "markdown",
   "metadata": {},
   "source": [
    "For those cases where a constructor has not been implemented, Java automatically creates one. \n",
    "This makes sense since a constructor must be called each time <font color = 'purple'> new </font> is used. This type of constructor is called a <i> Default Constructor </i>. The Java default constructor has no parameters and initial variables to their null values as follows:\n",
    "\n",
    "* bytes  \t\t\t\t\t\t''\n",
    "* characters\t\t\t\t\t''\n",
    "* integers\t\t\t\t\t\t0\n",
    "* floating point \t\t\t\t0.0\n",
    "* strings \t\t\t\t\t\tNULL/null\n",
    "* object references \t\t\tNULL/null\n",
    "\n",
    "\n",
    "Remember, if you create a constructor of any type in a class, then the default constructor is not used.\n",
    "\n",
    "<b> > It is good object-oriented design to implemnt your own constructor removing any dependencies on the underlying Java interpreter.</b>"
   ]
  },
  {
   "attachments": {},
   "cell_type": "markdown",
   "metadata": {},
   "source": [
    "<h2> <font color = 'blue'>General Constructors </font></h2>"
   ]
  },
  {
   "attachments": {},
   "cell_type": "markdown",
   "metadata": {},
   "source": [
    "General constructors cover all other constructor types and contain one or more paramters of any type. Consider the following:"
   ]
  },
  {
   "cell_type": "code",
   "execution_count": null,
   "metadata": {
    "vscode": {
     "languageId": "java"
    }
   },
   "outputs": [],
   "source": [
    "public class Headquarters\n",
    "{\n",
    "\tprivate MyPlayer m;\n",
    "\tprivate int totalPlayers;\n",
    "\n",
    "\t// General constructor\n",
    "\n",
    "\tpublic Headquarters(int newTotalPlayers)\n",
    "\t{\n",
    "\t\ttotalPlayers = newTotalPlayers;\n",
    "\t}\n",
    "\n",
    "\t...\n",
    "}"
   ]
  },
  {
   "attachments": {},
   "cell_type": "markdown",
   "metadata": {},
   "source": [
    "A **single integer**, newTotalPlayers, has been passed to the constructor of the <font color = 'green'> Headquarters</font> class."
   ]
  },
  {
   "attachments": {},
   "cell_type": "markdown",
   "metadata": {},
   "source": [
    "<font color = 'blue'><h3>The 'super' Keyword</h2> </font>\n",
    "\n",
    "\n",
    "\n",
    "In Java, when the constructor of a sub-class is called, the parent constructor is automatically called under specifcs conditions.\n",
    "\n",
    "*\tThere is no parent constructor in the constructor class.\n",
    "*\tThe parent class contains only a default constructor. The default constructor cannot be called if another constructor (of any type) has been declared in the parent class\n",
    "\n",
    "Constructors that accept parameters cannot be called automatically since the JVM will be unable to determine what values should be passed\n",
    "\n",
    "To ensure that the correct initializations take place (i.e., to execute the correct parent constructor) Java provides the <font color = 'purple'>super </font> keyword.\n",
    "<br>Consider the following code."
   ]
  },
  {
   "cell_type": "code",
   "execution_count": null,
   "metadata": {
    "vscode": {
     "languageId": "java"
    }
   },
   "outputs": [],
   "source": [
    "public class Headquarters\n",
    "{\n",
    "\tprotected MyPlayer m;\n",
    "\tprotected int totalPlayers;\n",
    "\tpublic Headquarters()\n",
    "\t{\n",
    "\t\t...\n",
    "\t}\n",
    "\t...\n",
    "\n",
    "}\n",
    "\n",
    "public class MobileHeadquarters extends Headquarters\n",
    "{\n",
    "\tprivate int totalDistance;\n",
    "\tpublic MobileHeadquarters()\n",
    "\t{\n",
    "\t\tsuper();\n",
    "\t\ttotalDistance = 4;\n",
    "\t}\n",
    "\t...\n",
    "}"
   ]
  },
  {
   "attachments": {},
   "cell_type": "markdown",
   "metadata": {},
   "source": [
    "The <font color = 'green'> MobileHeadquarters</font> class use the <font color = 'purple'> super </font> keyword to call the constructor in <font color = 'green'>  Headquaters </font> are initialized first. It should be noted that if the oarent constructors expects actual parameters then they should be passed via <font color = 'purple'> super </font> as follows:"
   ]
  },
  {
   "cell_type": "code",
   "execution_count": null,
   "metadata": {
    "vscode": {
     "languageId": "java"
    }
   },
   "outputs": [],
   "source": [
    "public class Headquarters\n",
    "{\n",
    "\tprotected MyPlayer m;\n",
    "\tprotected int totalPlayers;\n",
    "\n",
    "\tpublic Headquarters(int newTotalPlayers)\n",
    "\t{\n",
    "\t\ttotalPlayers = newTotalPlayers;\n",
    "\t}\n",
    "\t...\n",
    "\n",
    "}\n",
    "\n",
    "public class MobileHeadquarters extends Headquarters\n",
    "{\n",
    "\tprivate int totalDistance;\n",
    "\tpublic MobileHeadquarters()\n",
    "\t{\n",
    "\t\tsuper(10);\n",
    "\t\ttotalDistance  = 4;\n",
    "\t}\n",
    "\t...\n",
    "\tint[] arr;\n",
    "\tint data = new arr[];\n",
    "\tMHQ = new MobileHeadquarters();\n",
    "\n",
    "}"
   ]
  },
  {
   "attachments": {},
   "cell_type": "markdown",
   "metadata": {},
   "source": [
    "<font color = 'blue'><h3> Calling Local Methods in Constructors </h3> </font>\n",
    "\n",
    "\n",
    "Generally, you can call local methods within a constructor. However, care must be taken. This is due to the behavior of overridden methods during constructor initialization. Consider the following example: \n"
   ]
  },
  {
   "cell_type": "code",
   "execution_count": null,
   "metadata": {
    "vscode": {
     "languageId": "java"
    }
   },
   "outputs": [],
   "source": [
    "public class Point \n",
    "{\n",
    "\tprivate int x,y;\n",
    "\tpublic Point()\n",
    "\t{\n",
    "\t\tintit();\n",
    "\t}\n",
    "\tpublic void init()\n",
    "\t{\n",
    "\t\tx = 1; \n",
    "\t\ty = 4;\n",
    "\t}\n",
    "\t\n",
    "}\n",
    "public class Point3D extends Point\n",
    "{\n",
    "\tprivate int z;\n",
    "\tpublic Point3D()\n",
    "\t{\n",
    "\t\tsuper();\n",
    "\t\tinit();\n",
    "\t}\n",
    "\tpublic void init()\n",
    "\t{\n",
    "\t\tz = 2;\n",
    "\t}\n",
    "\tpublic static void main(String args[])\n",
    "\t{\n",
    "\t\tPoint3D p = new Point3D();\n",
    "\t}\n",
    "}\n",
    "\n"
   ]
  },
  {
   "attachments": {},
   "cell_type": "markdown",
   "metadata": {},
   "source": [
    "The steps are as follows:\n",
    "\n",
    "* A new instance of Point3D, called p, is created in main.\n",
    "* The constructor of Point3D is called\n",
    "* The constructor of Point is called\n",
    "* The init method is called in Point's constructor\n",
    "* The overriden init in Point3D is executed and not the one in Point\n",
    "* The init method is called in Point3D's constructor\n",
    "* The overriden init in Point3D is executed"
   ]
  },
  {
   "attachments": {},
   "cell_type": "markdown",
   "metadata": {},
   "source": [
    "<font color = 'blue'><h3> Destructors </h3> </font>\n",
    "\n",
    "Destructors are the counterparts to constructors. They are called automatically when the object is about to be destroyed. This ensures that the system resources, used by the object, are returned to the system when the object is no longer in use.\n",
    "\n",
    "\n",
    "however, destructors are not part of the Java programming language. The use of the Java garbage collector prevents the safe use of destructors. An object is destroyed by the garbage collector when the number of objects-references referring to it becomes zero. Unfortunately, Java guarantees that the objects will be destroyed but not **when** or in **what** order. This means that each time resources have to be returned immediately, the object must explicitly release them and not wait on the garbage collector e.g.. network resources such as sockets. This also applied to resources that must be released ina specific order by different objects. As a result, the Java programmer will have to explicitly manage these important resources.\n",
    "\n",
    "In summary, the behavior of the Java garbage collector forces the Java programmer to deal with many of the same issues experienced in other programming languages with destructors or the equivalent\n"
   ]
  }
 ],
 "metadata": {
  "language_info": {
   "name": "python"
  },
  "orig_nbformat": 4
 },
 "nbformat": 4,
 "nbformat_minor": 2
}
