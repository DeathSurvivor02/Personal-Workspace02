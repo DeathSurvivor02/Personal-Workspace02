{
 "cells": [
  {
   "attachments": {},
   "cell_type": "markdown",
   "metadata": {},
   "source": [
    "create a class called *Transformer* that contains:\n",
    "* A two dimensional array of float called *data* and two integers, *rows* and *cols*\n",
    "* A constructor that accepts two integer values called nrows and ncols (which denote the total number of rows and columns respectively for the array data) and a float value called *initVal* which used to initialize all the elements in *data*"
   ]
  },
  {
   "cell_type": "code",
   "execution_count": null,
   "metadata": {
    "vscode": {
     "languageId": "java"
    }
   },
   "outputs": [],
   "source": [
    "public class Transformer\n",
    "{\n",
    "\tfloat[][] data;\n",
    "\tint rows;\n",
    "\tint cols;\n",
    "\tTransformer(int nrows,int  ncols,float initVal );\n",
    "\n",
    "}"
   ]
  },
  {
   "attachments": {},
   "cell_type": "markdown",
   "metadata": {},
   "source": [
    "* A method *void* set(int rowNum, int colNum, int value) which sets te element at position rowNum and colNum in the data array to that of value\n",
    "* A method *void*"
   ]
  },
  {
   "cell_type": "code",
   "execution_count": null,
   "metadata": {
    "vscode": {
     "languageId": "java"
    }
   },
   "outputs": [],
   "source": [
    "import java.util.*;\n",
    "import java.util.Scanner;\n",
    "\n",
    "/*1 i*/\n",
    "public class Transformer {\n",
    "\n",
    "  public int rows;\n",
    "  public int cols;\n",
    "  public float data[][];\n",
    "\n",
    "  /*1 ii*/\n",
    "  public Transformer(int nrows, int ncols, float initVal) {\n",
    "    rows = nrows;\n",
    "    cols = ncols;\n",
    "    data = new float[nrows][ncols];\n",
    "\n",
    "    for (int i = 0; i < nrows; i++) {\n",
    "      for (int j = 0; j < ncols; j++) {\n",
    "        data[i][j] = initVal;\n",
    "      }\n",
    "    }\n",
    "  }\n",
    "\n",
    "  public void print3(int rows, int columns) {\n",
    "    //Goes through the rows\n",
    "    for (int i = 0; i < rows; i++) {\n",
    "      //Goes through each column\n",
    "      for (int j = 0; j < columns; j++) {\n",
    "        System.out.print(data[i][j] + \" |\"); //prints the grid array elements\n",
    "      }\n",
    "      System.out.println(\" || \" + data[i]); //prints the rowData array elements\n",
    "    }\n",
    "    for (int i = 0; i < columns; i++) {\n",
    "      System.out.print(\" \" + data[i] + \" |\"); //prints the colData array elements\n",
    "    }\n",
    "  }\n",
    "\n",
    "  /*1 iii*/\n",
    "  public void set(int rowNum, int colNum, int value) {\n",
    "    data[rowNum][colNum] = value;\n",
    "  }\n",
    "\n",
    "  /*1 iv*/\n",
    "  public void print(int rowNum) {\n",
    "    for (int j = 0; j < cols; j++) {\n",
    "      System.out.print(data[rowNum][j] + \" \");\n",
    "    }\n",
    "    System.out.println();\n",
    "  }\n",
    "\n",
    "  \n",
    "  public void reverse(int rowNum) {\n",
    "    System.out.println(\"row \" + rowNum + \" in reverse:\");\n",
    "    System.out.println(\" \");\n",
    "    for (int b = cols - 1; b > -1; b--) {\n",
    "      System.out.print(data[rowNum][b]);\n",
    "    }\n",
    "  }\n",
    "\n",
    "  \n",
    "  public void skewRow(int rowType, int value) {\n",
    "    if (rowType == 1) \n",
    "\t{\n",
    "      for (int i = 1; i < rows; i += 2) {\n",
    "        for (int j = 0; j < cols; j++) {\n",
    "          data[i][j] = data[i][j] + value;\n",
    "        }\n",
    "      }\n",
    "    }\n",
    "    for (int i = 0; i < rows; i += 2) \n",
    "\t{\n",
    "    \tfor (int j = 0; j < cols; j++)\n",
    "\t\t{\n",
    "        \tif ((rowType == 2)) \n",
    "\t\t\t{\n",
    "        \t\tdata[i][j] = data[i][j] - value;\n",
    "        \t}\n",
    "    \t}\n",
    "    }\n",
    "    for (int s = 0; s < rows; s++) {\n",
    "      for (int v = 0; v < cols; v++) {\n",
    "        System.out.print(data[s][v] + \" \");\n",
    "      }\n",
    "      System.out.println();\n",
    "    }\n",
    "  }\n",
    "\n",
    "public float getScore(int rowNum, int colNum) {\n",
    "    return data[rowNum][colNum];\n",
    "}\n",
    "\n",
    "public float averageScore(int rowNum) {\n",
    "    for (int i = 0; i < cols; i++) {\n",
    "\t\twhile (data[rowNum][i] < 0 || data[rowNum][i] > 10) {}\n",
    "    }\n",
    "\n",
    "    return 0;\n",
    "\t}\n",
    "}\n"
   ]
  }
 ],
 "metadata": {
  "language_info": {
   "name": "python"
  },
  "orig_nbformat": 4
 },
 "nbformat": 4,
 "nbformat_minor": 2
}
